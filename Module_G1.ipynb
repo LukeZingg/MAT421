{
  "nbformat": 4,
  "nbformat_minor": 0,
  "metadata": {
    "colab": {
      "provenance": [],
      "authorship_tag": "ABX9TyNebe3AsczdMe0+uKrcY6T8",
      "include_colab_link": true
    },
    "kernelspec": {
      "name": "python3",
      "display_name": "Python 3"
    },
    "language_info": {
      "name": "python"
    }
  },
  "cells": [
    {
      "cell_type": "markdown",
      "metadata": {
        "id": "view-in-github",
        "colab_type": "text"
      },
      "source": [
        "<a href=\"https://colab.research.google.com/github/LukeZingg/MAT421/blob/main/Module_G1.ipynb\" target=\"_parent\"><img src=\"https://colab.research.google.com/assets/colab-badge.svg\" alt=\"Open In Colab\"/></a>"
      ]
    },
    {
      "cell_type": "markdown",
      "source": [
        "**21.1 - Numerical Integration Problem Statement**\n",
        "\n",
        "\n",
        "\n",
        "*   To approximate the integral of  f(x)  over [a, b], we discretize the interval into  n + 1  grid points with spacing  h = b-a / n , where each subinterval [x_i, x_i+1] contributes to the total area.\n",
        "*   Common numerical methods approximate these subinterval areas using simple geometric shapes, summing them to estimate the integral."
      ],
      "metadata": {
        "id": "EzgjUCiA3iGk"
      }
    },
    {
      "cell_type": "markdown",
      "source": [
        "**21.2 - Riemanns Integral**\n",
        "\n",
        "Riemann's Integral approximation involves summing the areas of rectangles over each subinterval, given by ∫f(x)dx ≈ ∑h*f(xi). The rectangle has length \"h\", and its height is determined by evaluating the function at a chosen point within the interval—left, middle, or right. Increasing the number of rectangles improves accuracy and reduces error. We can see below this approximation in action."
      ],
      "metadata": {
        "id": "_d63zoWY39tc"
      }
    },
    {
      "cell_type": "code",
      "execution_count": 1,
      "metadata": {
        "colab": {
          "base_uri": "https://localhost:8080/"
        },
        "id": "TthqE7XbxELL",
        "outputId": "21e0fcf2-4428-4fa1-f1ce-86edf0e167f2"
      },
      "outputs": [
        {
          "output_type": "stream",
          "name": "stdout",
          "text": [
            "Left Riemann Sum: 1.983524\n",
            "Left Riemann Error: 0.016476\n",
            "\n",
            "Right Riemann Sum: 1.983524\n",
            "Right Riemann Error: 0.016476\n",
            "\n",
            "Midpoint Rule Approximation: 2.008248\n",
            "Midpoint Rule Error: -0.008248\n"
          ]
        }
      ],
      "source": [
        "import numpy as np\n",
        "\n",
        "# Define interval and number of subintervals\n",
        "a = 0\n",
        "b = np.pi\n",
        "n = 11\n",
        "h = (b - a) / (n - 1)\n",
        "\n",
        "# Generate grid points and function values\n",
        "x = np.linspace(a, b, n)\n",
        "f = np.sin(x)\n",
        "\n",
        "# Compute Riemann sums\n",
        "I_riemannL = h * sum(f[:n-1])\n",
        "err_riemannL = 2 - I_riemannL\n",
        "\n",
        "I_riemannR = h * sum(f[1:])\n",
        "err_riemannR = 2 - I_riemannR\n",
        "\n",
        "I_mid = h * sum(np.sin((x[:n-1] + x[1:]) / 2))\n",
        "err_mid = 2 - I_mid\n",
        "\n",
        "# Print results with titles\n",
        "print(f\"Left Riemann Sum: {I_riemannL:.6f}\")\n",
        "print(f\"Left Riemann Error: {err_riemannL:.6f}\\n\")\n",
        "\n",
        "print(f\"Right Riemann Sum: {I_riemannR:.6f}\")\n",
        "print(f\"Right Riemann Error: {err_riemannR:.6f}\\n\")\n",
        "\n",
        "print(f\"Midpoint Rule Approximation: {I_mid:.6f}\")\n",
        "print(f\"Midpoint Rule Error: {err_mid:.6f}\")"
      ]
    },
    {
      "cell_type": "markdown",
      "source": [
        "**21.3 - Trapezoid Rule**\n",
        "\n",
        "Using the trapezoid rule for approximation, each subinterval is approximated using a trapezoid, with its area contributing to the total integral. The trapezoids have corners at (xi, 0), (xi+1, 0), (xi, f(xi)), and (xi+1, f(xi+1)).\n",
        "The integral is approximated as:\n",
        " ∫f(x)dx ≈ ∑ h * [(f(xi)+f(xi+1)) / 2].\n",
        "We can repeat the same exercise using the trapezoid rule to see how it approximates integrals:"
      ],
      "metadata": {
        "id": "gnt6kmDX59VF"
      }
    },
    {
      "cell_type": "code",
      "source": [
        "# Define interval and number of subintervals\n",
        "a = 0\n",
        "b = np.pi\n",
        "n = 11\n",
        "h = (b - a) / (n - 1)\n",
        "\n",
        "# Generate grid points and function values\n",
        "x = np.linspace(a, b, n)\n",
        "f = np.sin(x)\n",
        "\n",
        "# Compute Trapezoidal Rule approximation\n",
        "I_trap = (h / 2) * (f[0] + 2 * sum(f[1:n-1]) + f[n-1])\n",
        "err_trap = 2 - I_trap\n",
        "\n",
        "# Print results with titles\n",
        "print(f\"Trapezoidal Rule Approximation: {I_trap:.6f}\")\n",
        "print(f\"Trapezoidal Rule Error: {err_trap:.6f}\")"
      ],
      "metadata": {
        "colab": {
          "base_uri": "https://localhost:8080/"
        },
        "id": "_HgBtksP6t5U",
        "outputId": "00395100-15d5-4224-c434-d0d1bedcfde5"
      },
      "execution_count": 2,
      "outputs": [
        {
          "output_type": "stream",
          "name": "stdout",
          "text": [
            "Trapezoidal Rule Approximation: 1.983524\n",
            "Trapezoidal Rule Error: 0.016476\n"
          ]
        }
      ]
    }
  ]
}