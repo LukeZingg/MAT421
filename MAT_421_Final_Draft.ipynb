{
  "nbformat": 4,
  "nbformat_minor": 0,
  "metadata": {
    "colab": {
      "provenance": [],
      "include_colab_link": true
    },
    "kernelspec": {
      "name": "python3",
      "display_name": "Python 3"
    },
    "language_info": {
      "name": "python"
    }
  },
  "cells": [
    {
      "cell_type": "markdown",
      "metadata": {
        "id": "view-in-github",
        "colab_type": "text"
      },
      "source": [
        "<a href=\"https://colab.research.google.com/github/LukeZingg/MAT421/blob/main/MAT_421_Final_Draft.ipynb\" target=\"_parent\"><img src=\"https://colab.research.google.com/assets/colab-badge.svg\" alt=\"Open In Colab\"/></a>"
      ]
    },
    {
      "cell_type": "markdown",
      "source": [
        "# **MAT 421 - Final Draft**\n",
        "\n",
        "Briana Sevilla\n",
        "\n",
        "Denysse Sevilla\n",
        "\n",
        "Luke Zingg\n",
        "\n",
        "MAT 421: Applied Computational Methods\n",
        "\n",
        "Dr. Wang\n",
        "\n",
        "3/23/2025"
      ],
      "metadata": {
        "id": "H_LpXUVy346m"
      }
    },
    {
      "cell_type": "markdown",
      "source": [
        "---\n",
        "\n",
        "## Introduction to the Problem\n"
      ],
      "metadata": {
        "id": "UHsTHAfM5jnM"
      }
    },
    {
      "cell_type": "markdown",
      "source": [
        "Due to its realistic-sounding generated output, ChatGPT has been criticized over the years for its lack of accuracy, bringing into question its reliability. Even so, students often utilize ChatGPT to learn advanced mathematical concepts such as Linear Algebra, putting at risk their understanding and quality of education. As a result, in this research project we aim to investigate how ChatGPT can be used and modified to facilitate students’ understanding of mathematical concepts and minimize the spread of misinformation by enhancing ChatGPT’s accuracy through the development of AI agents with API to fact-check its outputs"
      ],
      "metadata": {
        "id": "E83BRNUA8dBs"
      }
    },
    {
      "cell_type": "markdown",
      "source": [
        "---\n",
        "\n",
        "\n",
        "## Related Work / Literature Review"
      ],
      "metadata": {
        "id": "BK3L2kwb57R3"
      }
    },
    {
      "cell_type": "markdown",
      "source": [
        "The articles we studied highlighted the shortcomings of ChatGPT in regards to its mathematical problem-solving accuracy. AI models have been shown to struggle with geometry and even basic arithmetic calculations, serving as an issue for using it as a reliable learning tool for students. In addition, students and teachers are using AI in all different realms of schooling to understand mathematical concepts. AI can be quite useful in offering a guiding hand to students in learning important ideas and helping teachers create lesson plans. Despite being a helpful teaching tool, the use of AI in educational settings is criticized due to its failure to generate accurate responses at all times. However, LLMs can be used to check AI’s answers, serving as a second step of verification, and helping further program the AI to be more accurate in certain topics, such as linear algebra. Since it has been proven that ChatGPT struggles with some simple mathematical concepts, we assume that it will also struggle in complex problems that are built on these concepts. Thus, we will analyze its performance in solving problems from a higher-level course such as Linear Algebra.  \n",
        "\n",
        "Below are a few of the articles we reviewed for our research project:\n",
        "\n",
        "Pepin, B., Buchholtz, N. & Salinas-Hernández, U. “Mathematics Education in the Era of ChatGPT: Investigating Its Meaning and Use for School and University Education”—Editorial to Special Issue. Digit Exp Math Educ 11, 1–8 (2025). https://doi.org/10.1007/s40751-025-00173-0\n",
        "\n",
        "\n",
        "Yin DS, Yin X (2024) Scaffolding learning:\n",
        "From specific to generic with large language models. PLoS ONE 19(9): e0310409. https://doi.org/10.1371/journal.pone.0310409\n",
        "\n",
        "\n",
        "Almarashdi, H. S., Jarrah, A. M., Abu Khurma, O., & Gningue, S. M. (2024). Unveiling the potential: A systematic review of ChatGPT in transforming mathematics teaching and learning. Eurasia Journal of Mathematics, Science and Technology Education, 20(12), em2555. https://doi.org/10.29333/ejmste/15739\n",
        "\n"
      ],
      "metadata": {
        "id": "ixSBU8_q8QIC"
      }
    },
    {
      "cell_type": "markdown",
      "source": [
        "---\n",
        "\n",
        "## Hypothesis / Research Objective"
      ],
      "metadata": {
        "id": "OdSzGsEF6B5V"
      }
    },
    {
      "cell_type": "markdown",
      "source": [
        "Although ChatGPT, among other AI programs, serve as a useful tool for students to learn mathematical concepts such as those seen in linear algebra, the calculations of these programs can be flawed and unreliable. Despite this issue extending to various fields of academia, since linear algebra is known to provide a strong foundation to other mathematical and data science concepts, we will soley focus on analytical concepts in this branch of mathematics.\n",
        "\n",
        ">**Hypothesis:** Using an API in Python to fact-check ChatGPT’s responses to questions in linear algebra will ensure that ChatGPT generates correct answers.\n"
      ],
      "metadata": {
        "id": "jO04NXzV8RKo"
      }
    },
    {
      "cell_type": "markdown",
      "source": [
        "---\n",
        "\n",
        "## Proposed Methodology / Models"
      ],
      "metadata": {
        "id": "xv0HL8py7YFW"
      }
    },
    {
      "cell_type": "markdown",
      "source": [
        "We will begin by designing a representative set of Linear Algebra questions, covering essential concepts such as matrix operations, solving for eigenvalues, and conducting transformations. Using OpenAI's API, we will collect ChatGPT responses to generative examples of each of these topics, simulating students' frequent use of the tool for problem-solving. To assess the accuracy of these responses, we will develop a Python-based agent that integrates symbolic computation libraries such as SymPy or NumPy to fact check ChatGPT's output. As a result, this agent will verify ChatGPT answers to the questions and return a statement that confirms if ChatGPT was correct or not."
      ],
      "metadata": {
        "id": "kXiCbphO8V_u"
      }
    },
    {
      "cell_type": "markdown",
      "source": [
        "---\n",
        "## Data Collection / Experiment Setup"
      ],
      "metadata": {
        "id": "7GH_1w2_7qdZ"
      }
    },
    {
      "cell_type": "markdown",
      "source": [
        "The data will be in the form of Linear Algebra qualitative problems. These questions will be created by us to represent concepts in this topic. For example, we can ask ChatGPT to solve a problem of the following form:\n",
        "\n",
        "**Find the inverse of\n",
        "$A=\n",
        "\\begin{bmatrix}\n",
        "a & b & c \\\\\n",
        "d & e & f \\\\\n",
        "g & h & i \\\\\n",
        "\\end{bmatrix}$**.\n",
        "\n",
        "More problems include:\n",
        "\n",
        "- Determine the eigenvalues of a matrix\n",
        "  - Find their corresponding eigenvectors\n",
        "- Finding bases, dimensions, ranks\n",
        "- Transforming a matrix into Row Echelon form\n",
        "- Find the transpose of a matrix\n",
        "\n",
        ">Note: This list is subject to change. However, these topics provide a good conceptualization of the steps behind our proposal. Additional problems can be extracted from homework assignments and credited online platforms.\n",
        "\n",
        "Ultimately, we want ChatGPT to not only solve the problems, but return its answer in an accurate step-by-step form for students to learn and understand."
      ],
      "metadata": {
        "id": "yfdCuCUa8SqL"
      }
    },
    {
      "cell_type": "markdown",
      "source": [
        "---\n",
        "\n",
        "## Analysis Plan"
      ],
      "metadata": {
        "id": "WwrTglZS7wQo"
      }
    },
    {
      "cell_type": "markdown",
      "source": [
        "We will run multiple examples through the API and record how frequently the AI agent derives the correct answer. The correct answers will be calculated manually to ensure external biases and computational errors are not present. This method will allow us to analyze the types of questions ChatGPT commonly struggles with, the type of questions it answers more accurately and reliably, or a mixture of both. Essentially, this approach will give us insight on ChatGPT's strengths and weaknesses in regards to mathematical concepts.\n"
      ],
      "metadata": {
        "id": "g6NtsOkD8SN0"
      }
    },
    {
      "cell_type": "markdown",
      "source": [
        "\n",
        "---\n",
        "\n",
        "## Expected Results"
      ],
      "metadata": {
        "id": "O6lbgC3c70mC"
      }
    },
    {
      "cell_type": "markdown",
      "source": [
        "We expect that our project will demonstrate both the strengths and limitations of ChatGPT in solving and explaining Linear Algebra problems. Specifically, we anticipate finding a moderate number of incorrect or partially accurate responses, especially in multi-step problems, or ones that require an understanding of key definitions in Linear Algebra. By integrating a fact-checking agent, we expect a significant improvement in the reliability of ChatGPT’s outputs, with incorrect answers being flagged and corrected. This will show that combining large language models with computational verification tools can provide students with both understandable explanations and mathematically accurate results."
      ],
      "metadata": {
        "id": "-yiTw9ma8Ns4"
      }
    },
    {
      "cell_type": "markdown",
      "source": [
        "---\n",
        "\n",
        "## Team Roles and Responsibilities"
      ],
      "metadata": {
        "id": "1uIDM6Yy76Nr"
      }
    },
    {
      "cell_type": "markdown",
      "source": [
        "**Denysse:** Will be in charge of writing the introduction, explaining the problem statement of our research, the overall method we used to find our results, and any key terms that should be defined for the project.\n",
        "\n",
        "\\\n",
        "**Luke:** Will explain the programming aspect of the project and our analysis of the results.\n",
        "\n",
        "\\\n",
        "**Briana:** Will compose the conclusion, further work suggestions or discussion, and create the bibliography."
      ],
      "metadata": {
        "id": "ov-ePtCT8MjL"
      }
    },
    {
      "cell_type": "markdown",
      "source": [
        "---\n",
        "\n",
        "$\\heartsuit End \\heartsuit$"
      ],
      "metadata": {
        "id": "ubLySJNB8B5V"
      }
    }
  ]
}