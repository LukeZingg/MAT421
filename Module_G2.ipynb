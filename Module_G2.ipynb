{
  "nbformat": 4,
  "nbformat_minor": 0,
  "metadata": {
    "colab": {
      "provenance": [],
      "authorship_tag": "ABX9TyMWtM054lTsfff7NPy/y73e",
      "include_colab_link": true
    },
    "kernelspec": {
      "name": "python3",
      "display_name": "Python 3"
    },
    "language_info": {
      "name": "python"
    }
  },
  "cells": [
    {
      "cell_type": "markdown",
      "metadata": {
        "id": "view-in-github",
        "colab_type": "text"
      },
      "source": [
        "<a href=\"https://colab.research.google.com/github/LukeZingg/MAT421/blob/main/Module_G2.ipynb\" target=\"_parent\"><img src=\"https://colab.research.google.com/assets/colab-badge.svg\" alt=\"Open In Colab\"/></a>"
      ]
    },
    {
      "cell_type": "markdown",
      "source": [
        "**21.4 - Simpson's Rule**\n",
        "\n",
        "Simpson’s Rule estimates the area under  f(x)  by fitting a quadratic curve through three points:  (x_{i-1}, f(x_{i-1})) ,  (x_i, f(x_i)) , and  (x_{i+1}, f(x_{i+1})) . It then integrates this quadratic exactly to approximate the integral. We can illustrate this method as done below in Python:"
      ],
      "metadata": {
        "id": "d_N5Oava4pgA"
      }
    },
    {
      "cell_type": "code",
      "execution_count": 1,
      "metadata": {
        "colab": {
          "base_uri": "https://localhost:8080/"
        },
        "id": "ArgV32qhRtOn",
        "outputId": "85123056-7112-4598-b866-bff51e6abfb3"
      },
      "outputs": [
        {
          "output_type": "stream",
          "name": "stdout",
          "text": [
            "Simpson's Rule Approximation: 0.956837\n",
            "Exact Integral Value: 0.956786\n",
            "Absolute Error: 5.117547e-05\n"
          ]
        }
      ],
      "source": [
        "import numpy as np\n",
        "\n",
        "# Define function\n",
        "def f(x):\n",
        "    return np.exp(-x)\n",
        "\n",
        "a, b = 0, np.pi\n",
        "n = 11\n",
        "h = (b - a) / (n - 1)\n",
        "\n",
        "# Generate x values and function values\n",
        "x = np.linspace(a, b, n)\n",
        "f_values = f(x)\n",
        "\n",
        "# Apply Simpson's Rule\n",
        "I_simp = (h / 3) * (f_values[0] + 2 * sum(f_values[2:n-2:2])\n",
        "                     + 4 * sum(f_values[1:n-1:2]) + f_values[-1])\n",
        "\n",
        "# Exact integral\n",
        "exact_integral = 1 - np.exp(-np.pi)\n",
        "error = abs(exact_integral - I_simp)\n",
        "\n",
        "# Display results\n",
        "print(f\"Simpson's Rule Approximation: {I_simp:.6f}\")\n",
        "print(f\"Exact Integral Value: {exact_integral:.6f}\")\n",
        "print(f\"Absolute Error: {error:.6e}\")"
      ]
    },
    {
      "cell_type": "markdown",
      "source": [
        "**21.5 - Computing Integrals in Python**\n",
        "\n",
        "The scipy.integrate subpackage provides various functions for numerical integration. For example, we can use the quad function to approximate an integral given an input function and a numerical grid."
      ],
      "metadata": {
        "id": "imsH-laI5ezg"
      }
    },
    {
      "cell_type": "code",
      "source": [
        "from scipy.integrate import quad\n",
        "\n",
        "I_quad, est_err_quad = quad(np.sin, 0, 3* np.pi)\n",
        "err_quad = 0 - I_quad\n",
        "\n",
        "print(\"Quad Integral Results: \" + str(I_quad))\n",
        "print(\"Error: \" + str(est_err_quad) + \" \" + str(err_quad))\n"
      ],
      "metadata": {
        "colab": {
          "base_uri": "https://localhost:8080/"
        },
        "id": "ujlhHMkR509u",
        "outputId": "f3c297cb-3be0-4e0c-dae4-5dc4c283d5aa"
      },
      "execution_count": 11,
      "outputs": [
        {
          "output_type": "stream",
          "name": "stdout",
          "text": [
            "Quad Integral Results: 1.9999999999999998\n",
            "Error: 1.7391714627241377e-12 -1.9999999999999998\n"
          ]
        }
      ]
    }
  ]
}