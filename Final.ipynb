{
  "nbformat": 4,
  "nbformat_minor": 0,
  "metadata": {
    "colab": {
      "provenance": [],
      "include_colab_link": true
    },
    "kernelspec": {
      "name": "python3",
      "display_name": "Python 3"
    },
    "language_info": {
      "name": "python"
    }
  },
  "cells": [
    {
      "cell_type": "markdown",
      "metadata": {
        "id": "view-in-github",
        "colab_type": "text"
      },
      "source": [
        "<a href=\"https://colab.research.google.com/github/LukeZingg/MAT421/blob/main/Final.ipynb\" target=\"_parent\"><img src=\"https://colab.research.google.com/assets/colab-badge.svg\" alt=\"Open In Colab\"/></a>"
      ]
    },
    {
      "cell_type": "markdown",
      "source": [
        "# **LLM Agents Project**\n",
        "---"
      ],
      "metadata": {
        "id": "bg0ALOr3Vx6k"
      }
    },
    {
      "cell_type": "markdown",
      "source": [
        "## **Verifying the Accuracy of ChatGPT in Linear Algebra**\n",
        "---"
      ],
      "metadata": {
        "id": "h6ca5rkKVyCk"
      }
    },
    {
      "cell_type": "markdown",
      "source": [
        "> Created by: Briana Sevilla Quintero, Denysse Sevilla Quintero, and Luke Zingg\n",
        "\n",
        "\n"
      ],
      "metadata": {
        "id": "2Z11QWyMApyT"
      }
    },
    {
      "cell_type": "markdown",
      "source": [
        "## Table of Contents\n",
        "---"
      ],
      "metadata": {
        "id": "_u3hVgm0VyH3"
      }
    },
    {
      "cell_type": "markdown",
      "source": [
        "\n",
        "\n",
        "1.   Introduction\n",
        "2.   Literature Review\n",
        "      \n",
        "      a. Related Work\n",
        "      \n",
        "      b. Importnace  \n",
        "3.   Research Objective\n",
        "4.   Methodology\n",
        "\n",
        "     a. Analysis Plan\n",
        "\n",
        "     b. Expected Results\n",
        "5.   Implementation\n",
        "6.   Data Collection\n",
        "7.   Results\n",
        "      \n",
        "      a. Determinants\n",
        "\n",
        "      b. Inverses\n",
        "\n",
        "      c. Eigenvalues\n",
        "8.   Discussion\n",
        "9.   References\n",
        "\n"
      ],
      "metadata": {
        "id": "qFUAwCY_VyKl"
      }
    },
    {
      "cell_type": "markdown",
      "source": [
        "## 1. Introduction\n",
        "---"
      ],
      "metadata": {
        "id": "vdYQd-mdVyNL"
      }
    },
    {
      "cell_type": "markdown",
      "source": [
        "Due to its realistic-sounding generated output, ChatGPT has been criticized over the years for its lack of accuracy, bringing into question its reliability. Even so, students often utilize ChatGPT to learn advanced mathematical concepts such as Linear Algebra, putting at risk their understanding and quality of education. As a result, in this research project we aim to investigate how ChatGPT can be used and modified to facilitate students’ understanding of mathematical concepts and minimize the spread of misinformation by enhancing ChatGPT’s accuracy through the development of AI agents with API to fact-check its outputs."
      ],
      "metadata": {
        "id": "ssti5i8re6dT"
      }
    },
    {
      "cell_type": "markdown",
      "source": [
        "## 2. Literature Review\n",
        "---"
      ],
      "metadata": {
        "id": "kFjBxni0VyP1"
      }
    },
    {
      "cell_type": "markdown",
      "source": [
        "### Related Work"
      ],
      "metadata": {
        "id": "9SxfOhpLj-lb"
      }
    },
    {
      "cell_type": "markdown",
      "source": [
        "Due to ChatGPT's renowned popularity and easy-to-use technology, teachers and students around the nation are using AI in all different realms of schooling to facilitate the understanding of mathematical concepts. AI is known to be useful for all kinds of academic tasks, including aiding students in learning important topics to prepare for exams and assisting teachers in creating lesson plans to add to their curriculum. However, despite being a helpful teaching and learning tool, the use of AI in educational settings is criticized due to its failure to generate accurate responses at all times. That said, it has its uses. In fact, \"ChatGPT provided useful starting points for teaching objectives, prior knowledge, and student misconceptions, which they could refine further” (Pepin et al., 2025). Even so, multiple studies have concluded that ChatGPT is often wrong with specific topics such as spatial geometry and derivatives (Almarashdi et. al., p.1).\n",
        "\n",
        "Other research articles, such as *Mathematical Capabilities of ChatGPT* by Frieder et. al., have investigated ChatGPT's accuracy in various mathematical concepts including topology, algebra, precalculus, proofs, integration, etc. Still, none have tested ChatGPT's accuracy in linear algebra, a critical foundation in numerous technical and scientific fields such as:\n",
        "\n",
        "- Data Science\n",
        "- Engineering\n",
        "- Statistics\n",
        "- Physics\n",
        "- Modern Mathematics\n",
        "- Machine Learning\n",
        "\n",
        "Regardless of linear algebra's significant contributions to modern applications and technologies, its importance is often undermined and forgotten. Hence, it is extremely important for students to truly comprehend this subject and be able to apply it to different scenarios.\n",
        "\n",
        "As a result, in this project, we investigate ChatGPT's reliability and usefulness in teaching students linear algebra, making this difficult subject easier to learn."
      ],
      "metadata": {
        "id": "74Gx8NU3e8Lp"
      }
    },
    {
      "cell_type": "markdown",
      "source": [
        "### Importance"
      ],
      "metadata": {
        "id": "IT71MEw_kNJ3"
      }
    },
    {
      "cell_type": "markdown",
      "source": [
        "AI models have been shown to struggle with basic arithmetic calculations, serving as an issue for using it as a reliable learning tool for students. Unfortunately, “[e]ven the most powerful LLMs often fail to solve some basic math problems in grade school, such as multiplication and division with three or more digits” (Yin et al., p.1).\n",
        "\n",
        "ChatGPT's incorrect outputs can lead to the spread of misinformation in this already difficult subject. For instance, ChatGPT's inaccuracies can give rise to students studying false information, jepradising the quality of their education. Considering that linear algebra is the backbone of various fields of studies, it is important for ChatGPT to be correct at all times.\n",
        "\n",
        "Fortunately, when LLMs are programmed to master a specific concept, only a small amount of training is required to enhance its performance on other applications (Yin et al., p.1). Hence, LLMs can be used to check AI’s answers, serving as a second step of verification, and helping further program the AI to be more accurate in certain topics, such as linear algebra. As a result, investigating ChatGPT's reliability as an educational tool is worth exploring and enhancing."
      ],
      "metadata": {
        "id": "d4WTX8xLkNdd"
      }
    },
    {
      "cell_type": "markdown",
      "source": [
        "## 3. Research Objective\n",
        "---"
      ],
      "metadata": {
        "id": "H-VpvkoSe8OQ"
      }
    },
    {
      "cell_type": "markdown",
      "source": [
        "Though AIs like ChatGPT serve as a useful tool for students in demonstrating mathematical concepts such as those seen in linear algebra, their calculations can be flawed and unreliable. We hypothesize using an API in Python to fact-check ChatGPT’s responses to questions in linear algebra can be used to ensure that students using ChatGPT for its capabilities in explaining concepts also generate correct answers."
      ],
      "metadata": {
        "id": "pU04mTfre8QT"
      }
    },
    {
      "cell_type": "markdown",
      "source": [
        "## 4. Methodology\n",
        "---\n"
      ],
      "metadata": {
        "id": "R-6WP8Eme8TR"
      }
    },
    {
      "cell_type": "markdown",
      "source": [
        "In order to fact-check ChatGPT, the openai library in Python was used to send requests to ChatGPT and receive its responses. We decided to specifically utilize ChatGPT 4.0 mini instead of other versions due to its fast advanced reasoning abilities. Additionally, the libraries used to facilitate communication between Python and ChatGPT were the following:\n",
        "* openai\n",
        "* ast\n",
        "* numpy\n",
        "* json\n",
        "* sympy\n",
        "\n",
        "Furthermore, the questions created to prompt ChatGPT were designed to be a representative set of Linear Algebra queries, covering common concepts such as solving for inverses, eigenvalues, and determinants of nxn square matrices.\n",
        "\n",
        "In order to expand on these concepts, rational and irrational numbers were included in some of the matrices, testing ChatGPT’s proficiency in solving complex mathematical computations. Moreover, our code was programmed to also test ChatGPT’s ability to not only find the inverse of matrices, but also identify if a matrix is invertible or not.\n",
        "\n",
        "Unlike the ChatGPT app, which provides invisible polishing, retries, and memory, the API delivers raw model outputs without correction. Thus, the structure, errors, and context must be handled by the programmer. To combat this setback, the code was programmed to be as specific as possible in requesting ChatGPT to format its responses in a way that is both readable and interpretable by the user.\n",
        "\n",
        "As a result, ChatGPT’s responses to our prompts were consistently collected using the OpenAI API, simulating how students commonly use the tool for problem-solving. To assess the correctness of these responses, we developed a Python-based fact-checking agent that integrates with the libraries listed earlier. This agent will verify the AI’s answers to three eigenvalue-related questions, four determinant-related questions, and three inverse-related questions. The code will then return if the AI response is correct or not.\n"
      ],
      "metadata": {
        "id": "a4pptWPzkq0T"
      }
    },
    {
      "cell_type": "markdown",
      "source": [
        "### Analysis Plan"
      ],
      "metadata": {
        "id": "YLkXlRKXe8Vj"
      }
    },
    {
      "cell_type": "markdown",
      "source": [
        "We will run examples through the API and analyze how frequently the AI agent derives the correct answer. In order to fact ckeck ChatGPT's responses, its output will be compared to the correct answers derived by basic Pyhton programming functions. This method of calculation will ensure that external biases and computational errors are not present in the acquisition of the actual correct answer. Comparing ChatGPT's outputs to Python's calculations will allow us to analyze the types of questions ChatGPT commonly struggles with, the type of questions it answers more accurately, or a mixture of both. Essentially, this approach will give us insight on ChatGPT strengths and weaknesses in relation to mathematical concepts.\n"
      ],
      "metadata": {
        "id": "q6he-W67kXIl"
      }
    },
    {
      "cell_type": "markdown",
      "source": [
        "### Expected Results"
      ],
      "metadata": {
        "id": "09_M8GwWknxk"
      }
    },
    {
      "cell_type": "markdown",
      "source": [
        "We expect that our project will demonstrate both the strengths and limitations of ChatGPT in solving and explaining linear algebra problems. Specifically, we anticipate finding a moderate number of incorrect or partially accurate responses, especially in multi-step problems, or ones that require an understanding of key definitions in linear algebra. By integrating a fact-checking agent, we expect a significant improvement in the reliability of ChatGPT’s outputs, with incorrect answers being flagged and corrected. This will show that combining large language models with computational verification tools can provide students with both understandable explanations and mathematically accurate results."
      ],
      "metadata": {
        "id": "IMOO0VU9kn0T"
      }
    },
    {
      "cell_type": "markdown",
      "source": [
        "## 5. Implementation\n",
        "---"
      ],
      "metadata": {
        "id": "HLYkm-2ue8YE"
      }
    },
    {
      "cell_type": "markdown",
      "source": [
        "To run the code, you will need to have your own API key which you input into the code below to run everything. You can follow the instructions below to attain a key, which should allow all the code to run smoothly.\n"
      ],
      "metadata": {
        "id": "1cz6GUWhe8ar"
      }
    },
    {
      "cell_type": "markdown",
      "source": [
        "Creating and Using Your OpenAI API Key:\n",
        "\n",
        "  1. Go to the [OpenAI API Dashboard](https://platform.openai.com/docs/overview) and log in or create an account.\n",
        "  2. On the left sidebar, select API Keys.\n",
        "  3. Click Create new secret key in the top right.\n",
        "  4. Set a name, project, and permissions, then click Create secret key.\n",
        "  5. Copy and save your key, which you won’t be able to view again, and click Done.\n",
        "  6. Add $5 to your API account.\n",
        "  7. Copy your API key into the code below."
      ],
      "metadata": {
        "id": "uiUXBacsU5cp"
      }
    },
    {
      "cell_type": "code",
      "source": [
        "#This line installs the OpenAI and Requests Python libraries.\n",
        "\n",
        "!pip install openai requests -q"
      ],
      "metadata": {
        "id": "-jR-gt-mU9b6"
      },
      "execution_count": null,
      "outputs": []
    },
    {
      "cell_type": "code",
      "source": [
        "#This imports the libraries needed and gives Python the API key to talk to ChatGPT.\n",
        "\n",
        "import openai\n",
        "import ast\n",
        "import numpy as np\n",
        "import json\n",
        "from openai import OpenAI\n",
        "from sympy import Matrix\n",
        "\n",
        "client = OpenAI(\n",
        "    #replace your openai API key. make sure keep the key in a safe place,  colab and github do not save your jpynb file with the actual key.\n",
        "    api_key=\"YOUR API KEY HERE\"\n",
        ")"
      ],
      "metadata": {
        "id": "gFRRUds_VBWk"
      },
      "execution_count": null,
      "outputs": []
    },
    {
      "cell_type": "markdown",
      "source": [
        "We will start with giving ChatGPT questions about finding the determinant of square matrices. The deterimant is a relatively computationally simple value to find for any matrix, and is found via the same recursive process for any size matrix, making it an ideal task for AI to solve.\n",
        "The following code generates a function that allows the user to insert a matrix and have ChatGPT attempt to find its deteriminant and see how it performs."
      ],
      "metadata": {
        "id": "kZCHHnKfVOys"
      }
    },
    {
      "cell_type": "code",
      "source": [
        "#The function we want ChatGPT to respond with\n",
        "\n",
        "functions = [\n",
        "    {\n",
        "        \"name\": \"compute_determinant\",\n",
        "        \"description\": \"Return the determinant of a square matrix.\",\n",
        "        \"parameters\": {\n",
        "            \"type\": \"object\",\n",
        "            \"properties\": {\n",
        "                \"determinant\": {\n",
        "                    \"type\": \"number\",\n",
        "                    \"description\": \"The determinant of the matrix\"\n",
        "                }\n",
        "            },\n",
        "            \"required\": [\"determinant\"]\n",
        "        }\n",
        "    }\n",
        "]\n",
        "\n",
        "#The message we send to chatGPT\n",
        "\n",
        "def get_determinant(matrix):\n",
        "    try:\n",
        "        user_message = (\n",
        "            f\"Compute the determinant of this square matrix: {matrix}. \"\n",
        "            \"Return the result as a call to `compute_determinant`, using the key `determinant`. \"\n",
        "            \"Only return the number, rounded to 5 decimal places.\"\n",
        "        )\n",
        "\n",
        "        response = client.chat.completions.create(\n",
        "            model=\"gpt-4o-mini\",\n",
        "            temperature=0, #To see variation in responses change temperature > 1.\n",
        "            messages=[{\"role\": \"user\", \"content\": user_message}],\n",
        "            functions=functions,\n",
        "            function_call=\"auto\",\n",
        "            timeout=15 # A timeout limit incase ChatGPT gets stuck\n",
        "        )\n",
        "\n",
        "        message = response.choices[0].message\n",
        "        if message.function_call:\n",
        "            args = json.loads(message.function_call.arguments)\n",
        "            return args.get(\"determinant\")\n",
        "\n",
        "    except Exception as e:\n",
        "        print(f\"❌ GPT request failed: {e}\")\n",
        "\n",
        "    return None\n",
        "\n",
        "def verify_determinant(matrix, candidate_det, tolerance=1e-4):\n",
        "    true_det = np.linalg.det(np.array(matrix))\n",
        "    is_close = np.isclose(true_det, candidate_det, atol=tolerance)\n",
        "\n",
        "    print(f\"\\n📊 NumPy determinant = {true_det:.5f}, GPT = {candidate_det:.5f}, Error = {abs(true_det - candidate_det):.5f}\")\n",
        "    return is_close\n",
        "\n",
        "def test_gpt_determinant(matrix):\n",
        "    print(\"Testing matrix:\")\n",
        "    for row in matrix:\n",
        "        print(row)\n",
        "\n",
        "    candidate_det = get_determinant(matrix)\n",
        "    print(\"\\n🤖 GPT's claimed determinant:\", candidate_det)\n",
        "\n",
        "    if candidate_det is not None:\n",
        "        if verify_determinant(matrix, candidate_det):\n",
        "            print(\"✅ GPT's determinant is correct!\")\n",
        "        else:\n",
        "            print(\"❌ GPT's determinant is NOT correct.\")\n",
        "    else:\n",
        "        print(\"❌ GPT failed to return a determinant.\")"
      ],
      "metadata": {
        "id": "UyCEC4m5VVDG"
      },
      "execution_count": null,
      "outputs": []
    },
    {
      "cell_type": "markdown",
      "source": [
        "Given this function, we can input matrices to test ChatGPT's ability to find a matrix's determinant. We'll begin with a simple $2 \\times 2$ case."
      ],
      "metadata": {
        "id": "2-CSaY4oVY1C"
      }
    },
    {
      "cell_type": "code",
      "source": [
        "test_gpt_determinant([[1, 2], [5,1]])"
      ],
      "metadata": {
        "colab": {
          "base_uri": "https://localhost:8080/"
        },
        "id": "uCUscvmLVdXw",
        "outputId": "5204006e-7f55-40c0-dd2d-e64cfaf4f7a4"
      },
      "execution_count": null,
      "outputs": [
        {
          "output_type": "stream",
          "name": "stdout",
          "text": [
            "Testing matrix:\n",
            "[1, 2]\n",
            "[5, 1]\n",
            "\n",
            "🤖 GPT's claimed determinant: -9\n",
            "\n",
            "📊 NumPy determinant = -9.00000, GPT = -9.00000, Error = 0.00000\n",
            "✅ GPT's determinant is correct!\n"
          ]
        }
      ]
    },
    {
      "cell_type": "markdown",
      "source": [
        "In general for $2 \\times 2$ matrices, ChatGPT returns the correct determinant. This is especially true when all values are integers. However, if the values within the matrix are non-integers, ChatGPT's responses become less reliable."
      ],
      "metadata": {
        "id": "n1qgMSrpVcg3"
      }
    },
    {
      "cell_type": "code",
      "source": [
        "test_gpt_determinant([[1, np.sqrt(2)], [-5,3/2]])"
      ],
      "metadata": {
        "colab": {
          "base_uri": "https://localhost:8080/"
        },
        "id": "nJr53YPBVxAn",
        "outputId": "79ee4e9d-e008-46c0-e089-ccc578223510"
      },
      "execution_count": null,
      "outputs": [
        {
          "output_type": "stream",
          "name": "stdout",
          "text": [
            "Testing matrix:\n",
            "[1, np.float64(1.4142135623730951)]\n",
            "[-5, 1.5]\n",
            "\n",
            "🤖 GPT's claimed determinant: -8.82843\n",
            "\n",
            "📊 NumPy determinant = 8.57107, GPT = -8.82843, Error = 17.39950\n",
            "❌ GPT's determinant is NOT correct.\n"
          ]
        }
      ]
    },
    {
      "cell_type": "markdown",
      "source": [
        "Further, as the size of the matrix increases, ChatGPT struggles to return the correct determinant, even if all values are integers. For simple matrices with many 1s and 0s ChatGPT is able to return the correct determinant. That said, with more diverse values populating the matrix, ChatGPT is rarely able to disceren the right value."
      ],
      "metadata": {
        "id": "e5PGzE6yV1cW"
      }
    },
    {
      "cell_type": "code",
      "source": [
        "test_gpt_determinant([[1, 0, 1], [0, 1, 1], [0, 0, 1]])"
      ],
      "metadata": {
        "id": "VULtAFmuWOyC",
        "colab": {
          "base_uri": "https://localhost:8080/"
        },
        "outputId": "7b6b35b4-9bdf-403e-efa5-c9e8ea72ef41"
      },
      "execution_count": null,
      "outputs": [
        {
          "output_type": "stream",
          "name": "stdout",
          "text": [
            "Testing matrix:\n",
            "[1, 0, 1]\n",
            "[0, 1, 1]\n",
            "[0, 0, 1]\n",
            "\n",
            "🤖 GPT's claimed determinant: 1\n",
            "\n",
            "📊 NumPy determinant = 1.00000, GPT = 1.00000, Error = 0.00000\n",
            "✅ GPT's determinant is correct!\n"
          ]
        }
      ]
    },
    {
      "cell_type": "code",
      "source": [
        "test_gpt_determinant([[1, 2, 5], [3, 9, 2], [0, 3, 5]])"
      ],
      "metadata": {
        "id": "QZoIW9K-WTO-",
        "colab": {
          "base_uri": "https://localhost:8080/"
        },
        "outputId": "32df7f8e-03ad-4dba-e7f4-11ac63a2cf91"
      },
      "execution_count": null,
      "outputs": [
        {
          "output_type": "stream",
          "name": "stdout",
          "text": [
            "Testing matrix:\n",
            "[1, 2, 5]\n",
            "[3, 9, 2]\n",
            "[0, 3, 5]\n",
            "\n",
            "🤖 GPT's claimed determinant: -1.0\n",
            "\n",
            "📊 NumPy determinant = 54.00000, GPT = -1.00000, Error = 55.00000\n",
            "❌ GPT's determinant is NOT correct.\n"
          ]
        }
      ]
    },
    {
      "cell_type": "markdown",
      "source": [
        "Though ChatGPT didn't always return the correct determinant, for simple examples it managed to be reliable in finding the answer. To further test its capabilites with solving linear algebra questions, we've also developed code for having AI attempt to find the inverse of a matrix. This is done with the following function:"
      ],
      "metadata": {
        "id": "HxMWAyIVWafR"
      }
    },
    {
      "cell_type": "code",
      "source": [
        "# 1. Define the function for GPT to use\n",
        "functions = [\n",
        "    {\n",
        "        \"name\": \"invert_matrix\",\n",
        "        \"description\": \"Attempt to return the inverse of a square matrix. If it's not invertible, say so in the 'message'.\",\n",
        "        \"parameters\": {\n",
        "            \"type\": \"object\",\n",
        "            \"properties\": {\n",
        "                \"inverted_matrix\": {\n",
        "                    \"type\": \"array\",\n",
        "                    \"items\": {\n",
        "                        \"type\": \"array\",\n",
        "                        \"items\": {\"type\": \"number\"}\n",
        "                    },\n",
        "                    \"description\": \"The inverse matrix (if invertible)\"\n",
        "                },\n",
        "                \"message\": {\n",
        "                    \"type\": \"string\",\n",
        "                    \"description\": \"Explain why the matrix can't be inverted.\"\n",
        "                }\n",
        "            },\n",
        "            \"required\": []\n",
        "        }\n",
        "    }\n",
        "]\n",
        "\n",
        "# 2. Function to ask GPT to invert the matrix, you can change the user message if you want.\n",
        "def get_inverted_matrix_or_message(matrix):\n",
        "    user_message = (\n",
        "    f\"Please compute the inverse of the following matrix: {matrix}. \"\n",
        "    \"Return your result as a function call to `invert_matrix`, and make sure the `inverted_matrix` is a 2D array (a list of rows), not a flat list. \"\n",
        "    \"If the matrix is not invertible, return a message explaining why.\"\n",
        ")\n",
        "    response = client.chat.completions.create(\n",
        "        model=\"gpt-4o-mini\",\n",
        "        temperature=0,\n",
        "        # Changes how \"creative\" or deterministic the response is. Values of 0.1 - 0.3 are more straightforward, while\n",
        "        messages=[{\"role\": \"user\", \"content\": user_message}],\n",
        "        functions=functions,\n",
        "        function_call=\"auto\"\n",
        "    )\n",
        "\n",
        "    message = response.choices[0].message\n",
        "    if message.function_call is not None:\n",
        "        arguments = json.loads(message.function_call.arguments)\n",
        "        return arguments.get(\"inverted_matrix\"), arguments.get(\"message\")\n",
        "    else:\n",
        "        return None, \"No function call returned\"\n",
        "\n",
        "# 3. Check if a matrix is invertible\n",
        "def is_invertible(matrix):\n",
        "    try:\n",
        "        return np.linalg.det(np.array(matrix)) != 0\n",
        "    except np.linalg.LinAlgError:\n",
        "        return False\n",
        "\n",
        "# 4. Verify if AI's response is actually the correct inverse\n",
        "def verify_inverse(original_matrix, candidate_inverse, tolerance=1e-4):\n",
        "    A = np.array(original_matrix, dtype=float)\n",
        "\n",
        "    try:\n",
        "        A_inv = np.array(candidate_inverse, dtype=float)\n",
        "\n",
        "        # 🔄 If it's a flat list, reshape to square if possible\n",
        "        if A_inv.ndim == 1:\n",
        "            n = A.shape[0]\n",
        "            if len(A_inv) == n * n:\n",
        "                A_inv = A_inv.reshape((n, n))\n",
        "            else:\n",
        "                print(\"❌ GPT returned a flat inverse of the wrong size.\")\n",
        "                return False\n",
        "\n",
        "        if A.shape != A_inv.shape:\n",
        "            print(f\"❌ Shape mismatch: original {A.shape}, inverse {A_inv.shape}\")\n",
        "            return False\n",
        "\n",
        "        product = A @ A_inv\n",
        "        identity = np.eye(A.shape[0])\n",
        "        return np.allclose(product, identity, atol=tolerance)\n",
        "\n",
        "    except Exception as e:\n",
        "        print(f\"⚠️ Error in verifying inverse: {e}\")\n",
        "        return False\n",
        "# 5. Print matrices nicely\n",
        "def print_matrix(matrix, title=None):\n",
        "    if matrix is None:\n",
        "        print(\"  [None]\")\n",
        "        return\n",
        "\n",
        "    if title:\n",
        "        print(f\"{title}\")\n",
        "\n",
        "    if isinstance(matrix, list) and all(isinstance(x, (int, float, complex)) for x in matrix):\n",
        "        n = int(math.sqrt(len(matrix)))\n",
        "        if n * n != len(matrix):\n",
        "            print(\"⚠️ Invalid flat matrix shape.\")\n",
        "            print(\"  \", matrix)\n",
        "            return\n",
        "        matrix = [matrix[i*n:(i+1)*n] for i in range(n)]\n",
        "\n",
        "    if isinstance(matrix, list) and all(isinstance(row, list) for row in matrix):\n",
        "        for row in matrix:\n",
        "            print(\"  [\" + \", \".join(f\"{x:.4f}\" for x in row) + \"]\")\n",
        "    else:\n",
        "        print(\"⚠️ Matrix format not recognized:\", matrix)\n",
        "\n",
        "# 6. Main function to test GPT's inversion\n",
        "def test_gpt_inversion(matrix):\n",
        "    print(\"Testing matrix:\")\n",
        "    print_matrix(matrix)\n",
        "\n",
        "    inv_matrix, message = get_inverted_matrix_or_message(matrix)\n",
        "\n",
        "    print(\"\\n🤖 ChatGPT's Response:\")\n",
        "    if inv_matrix:\n",
        "        print_matrix(inv_matrix, title=\"🧮 Claimed Inverse:\")\n",
        "    else:\n",
        "        print(f\"💬 Message: {message}\")\n",
        "\n",
        "    is_numpy_invertible = is_invertible(matrix)\n",
        "\n",
        "    print(\"\\n🔍 Verification:\")\n",
        "    if is_numpy_invertible:\n",
        "        print(\"✅ NumPy says: Matrix is invertible.\")\n",
        "        if inv_matrix:\n",
        "            if verify_inverse(matrix, inv_matrix):\n",
        "                print(\"✅ GPT correctly computed the inverse!\")\n",
        "            else:\n",
        "                print(\"❌ GPT gave an incorrect inverse.\")\n",
        "        else:\n",
        "            print(\"❌ GPT failed to return an inverse.\")\n",
        "    else:\n",
        "        print(\"❌ NumPy says: Matrix is NOT invertible.\")\n",
        "        if message:\n",
        "            print(\"✅ GPT correctly identified it as non-invertible.\")\n",
        "        else:\n",
        "            print(\"❌ GPT incorrectly tried to invert it.\")"
      ],
      "metadata": {
        "id": "w9bl8UVAWheg"
      },
      "execution_count": null,
      "outputs": []
    },
    {
      "cell_type": "markdown",
      "source": [
        "This process first has ChatGPT check if the matrix is invertible by determining whether its determinant is zero. If the matrix is not invertible, ChatGPT is prompted to return a message explaining why. Otherwise, it attempts to compute the inverse. Interestingly, even though the AI often miscalculates determinants, it was generally consistent in correctly identifying non-invertible matrices.\n",
        "We can begin by testing ChatGPT for a simple $2 \\times 2$ marix."
      ],
      "metadata": {
        "id": "rRzE4-LhWmEM"
      }
    },
    {
      "cell_type": "code",
      "source": [
        "test_gpt_inversion([[3, 5], [1, 7]])"
      ],
      "metadata": {
        "id": "cPobgJfxWpvh",
        "colab": {
          "base_uri": "https://localhost:8080/"
        },
        "outputId": "c20b0517-f607-425f-8af0-d306af5d4381"
      },
      "execution_count": null,
      "outputs": [
        {
          "output_type": "stream",
          "name": "stdout",
          "text": [
            "Testing matrix:\n",
            "  [3.0000, 5.0000]\n",
            "  [1.0000, 7.0000]\n",
            "\n",
            "🤖 ChatGPT's Response:\n",
            "🧮 Claimed Inverse:\n",
            "  [7.0000, -5.0000]\n",
            "  [-1.0000, 3.0000]\n",
            "\n",
            "🔍 Verification:\n",
            "✅ NumPy says: Matrix is invertible.\n",
            "❌ GPT gave an incorrect inverse.\n"
          ]
        }
      ]
    },
    {
      "cell_type": "markdown",
      "source": [
        "In this case, it seems that ChatGPT is inconsistent in its ability to compute an inverse regardless of the matrix input. It often struggles with finding the inverse of $2 \\times 2$ matrices, but still manages to invert $3 \\times 3$ or even $5 \\times 5$ matrices on occasion.\n",
        "\n",
        "As mentioned, ChatGPT seems to be reliable in identifying when a matrix is not invertible, regardless of its size."
      ],
      "metadata": {
        "id": "DuQ51zqdWv9v"
      }
    },
    {
      "cell_type": "code",
      "source": [
        "test_gpt_inversion([[1, 2, 5], [5, 10, 25], [0, 7, 2]])"
      ],
      "metadata": {
        "id": "v4sHf8WQWvOc",
        "colab": {
          "base_uri": "https://localhost:8080/"
        },
        "outputId": "a8c9a654-4e94-4e08-8749-d96057122544"
      },
      "execution_count": null,
      "outputs": [
        {
          "output_type": "stream",
          "name": "stdout",
          "text": [
            "Testing matrix:\n",
            "  [1.0000, 2.0000, 5.0000]\n",
            "  [5.0000, 10.0000, 25.0000]\n",
            "  [0.0000, 7.0000, 2.0000]\n",
            "\n",
            "🤖 ChatGPT's Response:\n",
            "💬 Message: The matrix is not invertible because its determinant is zero.\n",
            "\n",
            "🔍 Verification:\n",
            "❌ NumPy says: Matrix is NOT invertible.\n",
            "✅ GPT correctly identified it as non-invertible.\n"
          ]
        }
      ]
    },
    {
      "cell_type": "markdown",
      "source": [
        "However, for more complex inversion calculations ChatGPT becomes lost quickly and is rarely able to find the correct inverse. The function seems to particulary struggle with irrational values, with it being resistent to producing inverses with non-rational entries."
      ],
      "metadata": {
        "id": "wgqzN--RW5Rt"
      }
    },
    {
      "cell_type": "code",
      "source": [
        "test_gpt_inversion([[1/2, 2/3, 5], [3, 9/2, 7], [1/11, np.sqrt(3), 9/5]])"
      ],
      "metadata": {
        "id": "xeSJ7eOqW_GB",
        "colab": {
          "base_uri": "https://localhost:8080/"
        },
        "outputId": "e2855ffa-e437-4490-b25d-b8776da0d5e0"
      },
      "execution_count": null,
      "outputs": [
        {
          "output_type": "stream",
          "name": "stdout",
          "text": [
            "Testing matrix:\n",
            "  [0.5000, 0.6667, 5.0000]\n",
            "  [3.0000, 4.5000, 7.0000]\n",
            "  [0.0909, 1.7321, 1.8000]\n",
            "\n",
            "🤖 ChatGPT's Response:\n",
            "🧮 Claimed Inverse:\n",
            "  [1.0000, -1.0000, -1.0000]\n",
            "  [-0.0000, 0.5000, 1.0000]\n",
            "  [0.0000, -0.0000, 0.5000]\n",
            "\n",
            "🔍 Verification:\n",
            "✅ NumPy says: Matrix is invertible.\n",
            "❌ GPT gave an incorrect inverse.\n"
          ]
        }
      ]
    },
    {
      "cell_type": "markdown",
      "source": [
        "As a final test of ChatGPT’s ability to solve linear algebra problems, we developed a function that prompts it to compute the eigenvalues of a matrix. This task is the most technically challenging, given that finding eigenvalues involves solving characteristic polynomials and often results in complex numbers. The following function is used to ask ChatGPT to calculate a matrix’s eigenvalues."
      ],
      "metadata": {
        "id": "5yctpH1GXB-Q"
      }
    },
    {
      "cell_type": "code",
      "source": [
        "# Function for GPT\n",
        "functions = [\n",
        "    {\n",
        "        \"name\": \"compute_eigenvalues\",\n",
        "        \"description\": \"Return the eigenvalues of a square matrix in the 'eigenvalues' field.\",\n",
        "        \"parameters\": {\n",
        "            \"type\": \"object\",\n",
        "            \"properties\": {\n",
        "                \"eigenvalues\": {\n",
        "                    \"type\": \"array\",\n",
        "                    \"items\": {\"type\": \"number\"},\n",
        "                    \"description\": \"A list of eigenvalues for the square matrix\"\n",
        "                }\n",
        "            },\n",
        "            \"required\": [\"eigenvalues\"]\n",
        "        }\n",
        "    }\n",
        "]\n",
        "\n",
        "# Parse GPT output strings into complex numbers\n",
        "def parse_complex_list(raw_list):\n",
        "    result = []\n",
        "    for val in raw_list:\n",
        "        if isinstance(val, (int, float, complex)):\n",
        "            result.append(val)\n",
        "        else:\n",
        "            try:\n",
        "                val_clean = str(val).replace('i', 'j').replace('–', '-').replace('−', '-').replace(' ', '')\n",
        "                result.append(complex(val_clean))\n",
        "            except ValueError:\n",
        "                print(f\"⚠️ Could not parse: {val}\")\n",
        "                result.append(np.nan)\n",
        "    return result\n",
        "\n",
        "# Call GPT to compute eigenvalues\n",
        "def get_eigenvalues(matrix):\n",
        "    user_message = (\n",
        "        f\"Compute the eigenvalues of this square matrix: {matrix}. \"\n",
        "        \"Return the result as a call to `compute_eigenvalues`. \"\n",
        "        \"If the eigenvalues are complex, include them using 'i' notation (like 2 + 3i). \"\n",
        "        \"Round each eigenvalue to 5 decimal places. Output only the list of eigenvalues.\"\n",
        "    )\n",
        "\n",
        "    response = client.chat.completions.create(\n",
        "        model=\"gpt-4o-mini\",\n",
        "        temperature=0, #Set to 0 for more deterministic outputs.\n",
        "        messages=[{\"role\": \"user\", \"content\": user_message}],\n",
        "        functions=functions,\n",
        "        function_call=\"auto\"\n",
        "    )\n",
        "\n",
        "    message = response.choices[0].message\n",
        "    if message.function_call is not None:\n",
        "        args = json.loads(message.function_call.arguments)\n",
        "        return args.get(\"eigenvalues\")\n",
        "    return None\n",
        "\n",
        "# Compare GPT's eigenvalues to NumPy's\n",
        "def verify_eigenvalues(matrix, candidate_eigenvalues, tolerance=1e-4, verbose=True):\n",
        "    A = np.array(matrix, dtype=complex)\n",
        "    true_vals = np.linalg.eigvals(A)\n",
        "\n",
        "    parsed_candidate = parse_complex_list(candidate_eigenvalues)\n",
        "\n",
        "    if len(parsed_candidate) != len(true_vals):\n",
        "        print(f\"\\n❌ GPT returned wrong number of eigenvalues (expected {len(true_vals)}, got {len(parsed_candidate)}).\")\n",
        "        return False\n",
        "\n",
        "    true_sorted = np.sort_complex(true_vals)\n",
        "    candidate_sorted = np.sort_complex(np.array(parsed_candidate, dtype=complex))\n",
        "\n",
        "    is_close = np.allclose(true_sorted, candidate_sorted, atol=tolerance)\n",
        "\n",
        "    if verbose:\n",
        "        print(\"\\n📊 Comparison (NumPy vs GPT):\")\n",
        "        for i, (t, g) in enumerate(zip(true_sorted, candidate_sorted)):\n",
        "            print(f\"  λ{i+1}: NumPy = {t:.6f}, GPT = {g:.6f}, Error = {abs(t - g):.6f}\")\n",
        "\n",
        "    return is_close\n",
        "\n",
        "# Run a full test\n",
        "def test_gpt_eigenvalues(matrix):\n",
        "    print(\"Testing matrix:\")\n",
        "    for row in matrix:\n",
        "        print(row)\n",
        "\n",
        "    candidate = get_eigenvalues(matrix)\n",
        "    print(\"\\n🤖 GPT's claimed eigenvalues:\", candidate)\n",
        "\n",
        "    if candidate is not None:\n",
        "        is_correct = verify_eigenvalues(matrix, candidate)\n",
        "        if is_correct:\n",
        "            print(\"✅ GPT's eigenvalues are correct!\")\n",
        "        else:\n",
        "            print(\"❌ GPT's eigenvalues are NOT correct.\")\n",
        "    else:\n",
        "        print(\"❌ GPT failed to return eigenvalues.\")"
      ],
      "metadata": {
        "id": "JND2h266XLeN"
      },
      "execution_count": null,
      "outputs": []
    },
    {
      "cell_type": "markdown",
      "source": [
        "As seen before, as the matrix complexity increases, ChatGPT becomes less reliable in finding a matrix's eigenvalues. However, for simple cases such as $2 \\times 2$ matrices with whole number values, ChatGPT tends to return the correct answer."
      ],
      "metadata": {
        "id": "ml3P0Px9XPIR"
      }
    },
    {
      "cell_type": "code",
      "source": [
        "test_gpt_eigenvalues([[1,1],[1,0]])"
      ],
      "metadata": {
        "id": "FipqEq6tXTVv",
        "colab": {
          "base_uri": "https://localhost:8080/"
        },
        "outputId": "f5358221-2132-4f6f-dc10-89085d750f84"
      },
      "execution_count": null,
      "outputs": [
        {
          "output_type": "stream",
          "name": "stdout",
          "text": [
            "Testing matrix:\n",
            "[1, 1]\n",
            "[1, 0]\n",
            "\n",
            "🤖 GPT's claimed eigenvalues: [1.61803, -0.61803]\n",
            "\n",
            "📊 Comparison (NumPy vs GPT):\n",
            "  λ1: NumPy = -0.618034+0.000000j, GPT = -0.618030+0.000000j, Error = 0.000004\n",
            "  λ2: NumPy = 1.618034+0.000000j, GPT = 1.618030+0.000000j, Error = 0.000004\n",
            "✅ GPT's eigenvalues are correct!\n"
          ]
        }
      ]
    },
    {
      "cell_type": "markdown",
      "source": [
        "That said, in this instance ChatGPT's greatest issue seems to be giving complex eigenvalues. ChatGPT appears to refuse to return complex values, even though it is explicitly stated in the function it uses and the message sent to it that complex values may appear. This can be seen when ChatGPT is given the follow matrix with eigenvalues *±i*."
      ],
      "metadata": {
        "id": "MNREpEY6XWhg"
      }
    },
    {
      "cell_type": "code",
      "source": [
        "test_gpt_eigenvalues([[0,1],[-1,0]])"
      ],
      "metadata": {
        "colab": {
          "base_uri": "https://localhost:8080/"
        },
        "id": "MfTbOEyoXbw_",
        "outputId": "10a5b4dc-9cfa-47b8-9121-c3fd990a4a53"
      },
      "execution_count": null,
      "outputs": [
        {
          "output_type": "stream",
          "name": "stdout",
          "text": [
            "Testing matrix:\n",
            "[0, 1]\n",
            "[-1, 0]\n",
            "\n",
            "🤖 GPT's claimed eigenvalues: [0, 1.0]\n",
            "\n",
            "📊 Comparison (NumPy vs GPT):\n",
            "  λ1: NumPy = 0.000000+1.000000j, GPT = 0.000000+0.000000j, Error = 1.000000\n",
            "  λ2: NumPy = 0.000000-1.000000j, GPT = 1.000000+0.000000j, Error = 1.414214\n",
            "❌ GPT's eigenvalues are NOT correct.\n"
          ]
        }
      ]
    },
    {
      "cell_type": "markdown",
      "source": [
        "Note that *Error* is calculated as the absolute distance between ChatGPT and Python's values of λ in the complex plane."
      ],
      "metadata": {
        "id": "KJj4rvenXldB"
      }
    },
    {
      "cell_type": "code",
      "source": [
        "test_gpt_eigenvalues([[0,1,2],[1,0,3],[3,5,1]])"
      ],
      "metadata": {
        "id": "qScDKnKvXpZ3",
        "colab": {
          "base_uri": "https://localhost:8080/"
        },
        "outputId": "a9e6d2d0-5fbd-46bf-c690-aa43e478ee23"
      },
      "execution_count": null,
      "outputs": [
        {
          "output_type": "stream",
          "name": "stdout",
          "text": [
            "Testing matrix:\n",
            "[0, 1, 2]\n",
            "[1, 0, 3]\n",
            "[3, 5, 1]\n",
            "\n",
            "🤖 GPT's claimed eigenvalues: [4.0, 1.0, -3.0]\n",
            "\n",
            "📊 Comparison (NumPy vs GPT):\n",
            "  λ1: NumPy = -3.663777+0.000000j, GPT = -3.000000+0.000000j, Error = 0.663777\n",
            "  λ2: NumPy = -0.885357+0.000000j, GPT = 1.000000+0.000000j, Error = 1.885357\n",
            "  λ3: NumPy = 5.549134+0.000000j, GPT = 4.000000+0.000000j, Error = 1.549134\n",
            "❌ GPT's eigenvalues are NOT correct.\n"
          ]
        }
      ]
    },
    {
      "cell_type": "markdown",
      "source": [
        "Even when the true eigenvalues are real, ChatGPT often struggles to return correct values. It frequently produces incorrect integer approximations, possibly avoiding irrational results. Of the three problem types tested, computing eigenvalues appears to be the task ChatGPT fails at most consistently."
      ],
      "metadata": {
        "id": "V065uqu9XtD1"
      }
    },
    {
      "cell_type": "markdown",
      "source": [
        "## 6. Data Collection\n",
        "---"
      ],
      "metadata": {
        "id": "pz85Y-k6fMIQ"
      }
    },
    {
      "cell_type": "markdown",
      "source": [
        "The data for this assignment will be generated to help serve the question we would like the AI to solve. In other words, randomly generated data that best serves the concept we would like to analyze will be used.\n",
        "The collection of data consists of ChatGPT's output. We recorded the accuracy of the results and analyzed its consistency.\n",
        "\n",
        "\n",
        "\n"
      ],
      "metadata": {
        "id": "rwzZe_rTfMK1"
      }
    },
    {
      "cell_type": "markdown",
      "source": [
        "## 7. Results\n",
        "---"
      ],
      "metadata": {
        "id": "CLRyD4yLfMNr"
      }
    },
    {
      "cell_type": "markdown",
      "source": [
        "### Determinants"
      ],
      "metadata": {
        "id": "iRKHjrp4nYzn"
      }
    },
    {
      "cell_type": "markdown",
      "source": [
        "On the other hand, the accuracy of ChatGPT's outputs when asked to obtain the determinants of a square matrix were mixed. For example, ChatGPT outputed the correct determinant of a $2 \\times 2$ matrix about half of the time (50/50). However, accuracy was even lower for matrices with rational entries. Finally, ChatGPT demonstrated pattern bias: like with inverses, ChatGPT often defaulted to clean integers instead of exact rational determinants, even when incorrect."
      ],
      "metadata": {
        "id": "_nCTnV9BnY1v"
      }
    },
    {
      "cell_type": "markdown",
      "source": [
        "### Inverses"
      ],
      "metadata": {
        "id": "76Zm41kXfMQb"
      }
    },
    {
      "cell_type": "markdown",
      "source": [
        "ChatGPT's outputs when asked to perform the inverse of a square matrix were relitavely poor. For instance, ChatGPT was not reproducible. The same matrix yielded an inverse in one run and fail in the next, suggesting that ChatGPT's outputs are inconsistent. Additionally, ChatGPT showed a tendency to avoid rational numbers in inverses, favoring incorrect integer approximations instead and signifying a bias toward integers. Finally, once ChatGPT produced an incorrect inverse, it often continued producing similar wrong answers repeatedly, even after previously returning correct ones.\n"
      ],
      "metadata": {
        "id": "Ke4IYsphlMPy"
      }
    },
    {
      "cell_type": "markdown",
      "source": [
        "### Eigenvalues"
      ],
      "metadata": {
        "id": "VY54CPhWnYPX"
      }
    },
    {
      "cell_type": "markdown",
      "source": [
        "However, ChatGPT's performance when asked to determine the eigenvalues of a square matrix was moderate. For instance, ChatGPT consistently failed to return correct complex eigenvalues: It either skipped them or hallucinated incorrect real approximations. Additionally, ChatGPT demonstarted high dimensional sensitivity: While performing reaonably well on real eigenvalues for $2 \\times 2$ matrices, its accuracy dropped significantly for $3 \\times 3$ and larger matrices.\n"
      ],
      "metadata": {
        "id": "4jWa2W9_nYvM"
      }
    },
    {
      "cell_type": "markdown",
      "source": [
        "## 8. Discussion\n",
        "---"
      ],
      "metadata": {
        "id": "9olo56y2rlE8"
      }
    },
    {
      "cell_type": "markdown",
      "source": [
        "In sum, although the consistency, accuracy, and reliability of ChatGPT’s output to basic linear algebra concepts varied, it can be concluded that overall, ChatGPT is a poor tool for mathematical education as it currently stands. On average, ChatGPT’s responses were flagged by the AI agent and marked as incorrect. Once the dimension of a matrix increased or non-integer values were utilized, ChatGPT’s responses became increasingly inaccurate. As a result, further enhancements and training would be required before implementing ChatGPT in educational settings or utilizing it as a learning tool to facilitate the understanding of linear algebra concepts.\n",
        "\n",
        "Furthermore, the complexity and extent of linear algebra concepts used can be expanded in a later project and investigated further to obtain a greater scope of ChatGPT’s accuracy in performing mathematical operations, ultimately reinforcing the AI model’s problem solving techniques to prevent future inaccuracies."
      ],
      "metadata": {
        "id": "A6Z7gh8H_yxg"
      }
    },
    {
      "cell_type": "markdown",
      "source": [
        "### Further Work"
      ],
      "metadata": {
        "id": "zwFVFq6c3JoN"
      }
    },
    {
      "cell_type": "markdown",
      "source": [
        "During the implementation phase some notable concerns arose.\n",
        "\n",
        "First, the \"temperature\" setting in the code is responsible for how much \"free will\" the API has. In other words, as temperature increases, ChatGPT's responses become more creative, indicating that when temperature is high, re-running the same question can result in varying answers. For reproducibility, the temperature for this project is set to zero; however, this value is worth changing in the code to analyze how it affects ChatGPT's responses to given prompts.\n",
        "\n",
        "Second, asking ChatGPT’s online version the same questions previously discussed led to the API giving the wrong answers while ChatGPT’s online version gave the correct ones. In addition, there seems to be a significant difference between the API and the online version of ChatGPT– one of them being the need to manually alter the code to enhance interpretability as discussed in the methodology section. Although the AI model used in the OpenAI API and the ChatGPT app are identical at its core, the environments differ significantly. Thus, comparing the accuracy of the API and the online version of ChatGPT may prove to be an additional valuable area of study.\n",
        "\n",
        "Lastly, examining different versions of ChatGPT can be another area of further research. This way, multiple versions of ChatGPT can be compared to analyze the best model for solving complex mathematical problems. Once this information is obtained, time and effort can be efficiently directed to improve the accuracy of the best version of ChatGPT, allowing students to utilize its capabilities with confidence in order to understand complex mathematical topics related to linear algebra.\n"
      ],
      "metadata": {
        "id": "gnSVbBNY3L9x"
      }
    },
    {
      "cell_type": "markdown",
      "source": [
        "## 9. References\n",
        "---"
      ],
      "metadata": {
        "id": "5vKv0yvrfRi-"
      }
    },
    {
      "cell_type": "markdown",
      "source": [
        "  Almarashdi, H. S., Jarrah, A. M., Abu Khurma, O., & Gningue, S. M. (2024). Unveiling the potential: A systematic review of ChatGPT in transforming mathematics teaching and learning. Eurasia Journal of Mathematics, Science and Technology Education, 20(12), em2555. https://doi.org/10.29333/ejmste/15739\n",
        "\n",
        " DynamicLLM. (2025, January). LLM2024. GitHub. https://github.com/DynamicLLM/LLM2024/blob/main/src/sample-ai-agent/llm_matrixInversion.ipynb\n",
        "\n",
        " Frieder, S., Pinchetti, L., Griffiths, R. R., Salvatori, T., Lukasiewicz, T., Petersen, P., & Berner, J. (2023). Mathematical capabilities of chatgpt. Advances in neural information processing systems, 36, 27699-27744.\n",
        "\n",
        " Pepin, B., Buchholtz, N. & Salinas-Hernández, U. “Mathematics Education in the Era of ChatGPT: Investigating Its Meaning and Use for School and University Education”—Editorial to Special Issue. Digit Exp Math Educ 11, 1–8 (2025). https://doi.org/10.1007/s40751-025-00173-0\n",
        "\n",
        " Spreitzer, C., Straser, O., Zehetmeier, S., & Maaß, K. (2024). Mathematical Modelling Abilities of Artificial Intelligence Tools: The Case of ChatGPT. Education Sciences, 14(7), 698. https://doi.org/10.3390/educsci14070698\n",
        "\n",
        " Yin DS, Yin X (2024) Scaffolding learning:\n",
        " From specific to generic with large language\n",
        " models. PLoS ONE 19(9): e0310409.\n",
        " https://doi.org/10.1371/journal.pone.0310409"
      ],
      "metadata": {
        "id": "l7xssgGRfRmm"
      }
    }
  ]
}