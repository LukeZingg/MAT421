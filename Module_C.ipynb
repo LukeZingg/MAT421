{
  "nbformat": 4,
  "nbformat_minor": 0,
  "metadata": {
    "colab": {
      "provenance": [],
      "authorship_tag": "ABX9TyP4ej9o7N6YJftOiwzH+3wm",
      "include_colab_link": true
    },
    "kernelspec": {
      "name": "python3",
      "display_name": "Python 3"
    },
    "language_info": {
      "name": "python"
    }
  },
  "cells": [
    {
      "cell_type": "markdown",
      "metadata": {
        "id": "view-in-github",
        "colab_type": "text"
      },
      "source": [
        "<a href=\"https://colab.research.google.com/github/LukeZingg/MAT421/blob/main/Module_C.ipynb\" target=\"_parent\"><img src=\"https://colab.research.google.com/assets/colab-badge.svg\" alt=\"Open In Colab\"/></a>"
      ]
    },
    {
      "cell_type": "markdown",
      "source": [
        "**19.1 - Root Finding Problem Statement**"
      ],
      "metadata": {
        "id": "WGsX5cc_Bb9o"
      }
    },
    {
      "cell_type": "markdown",
      "source": [
        "\n",
        "\n",
        "*   For any value \"x\", if f(x) = 0, x is a root of f(x).  \n",
        "*   Some roots can be found algebriacally, while others require numerical methods to approximate the values of the function's roots.\n",
        "\n"
      ],
      "metadata": {
        "id": "sIHdkESOBfxg"
      }
    },
    {
      "cell_type": "code",
      "execution_count": null,
      "metadata": {
        "colab": {
          "base_uri": "https://localhost:8080/"
        },
        "id": "wYhZOneS_9Cf",
        "outputId": "27a51027-b789-45a9-bfa2-1ab26ac96975"
      },
      "outputs": [
        {
          "output_type": "stream",
          "name": "stdout",
          "text": [
            "r = [0.73908513]\n",
            "result= [0.]\n"
          ]
        }
      ],
      "source": [
        " #Finds the root of f(x) = cos(x) - x.\n",
        " import numpy as np\n",
        "from scipy import optimize\n",
        "\n",
        "f = lambda x: np.cos(x) - x\n",
        "r = optimize.fsolve(f, -2)\n",
        "print(\"r =\", r)\n",
        "\n",
        "# Verify the solution is a root\n",
        "result = f(r)\n",
        "print(\"result=\", result)"
      ]
    },
    {
      "cell_type": "markdown",
      "source": [
        "Some functions have no roots. Python can still attempt to find roots to these functions numerically, but may only succeed in finding small values of f(x) close to 0. Here, *full_output* will tell us if a root was found or not."
      ],
      "metadata": {
        "id": "Src2_3DTCgJH"
      }
    },
    {
      "cell_type": "code",
      "source": [
        "f = lambda x: 1/x\n",
        "\n",
        "r, infodict, ier, mesg = optimize.fsolve(f, -2, full_output=True)\n",
        "print(\"r =\", r)\n",
        "\n",
        "result = f(r)\n",
        "print(\"result=\", result)\n",
        "\n",
        "print(mesg)"
      ],
      "metadata": {
        "colab": {
          "base_uri": "https://localhost:8080/"
        },
        "id": "vQ_XOYgDCzZg",
        "outputId": "555aef97-ca1e-4a3a-95d5-ea7f5d50e747"
      },
      "execution_count": null,
      "outputs": [
        {
          "output_type": "stream",
          "name": "stdout",
          "text": [
            "r = [-3.52047359e+83]\n",
            "result= [-2.84052692e-84]\n",
            "The number of calls to function has reached maxfev = 400.\n"
          ]
        }
      ]
    },
    {
      "cell_type": "markdown",
      "source": [
        "**19.2 - Tolerance**"
      ],
      "metadata": {
        "id": "NBujWbxmDZSf"
      }
    },
    {
      "cell_type": "markdown",
      "source": [
        "\n",
        "\n",
        "*   Tolerance is the level of error that is acceptable for our application.\n",
        "*   When finding roots it is important to establish an acceptable level of tolerance, since we cannot numerically find the exact root.\n",
        "*   In a recursive process we can define our tolerance relative to |x_n - x_{n+1}|.\n",
        "*   For any tolerance level we can always find a function f(x) where some value of x will be returned as a root despite it not being a true root. For instance, f(x) = tolerance / 2 will return all values of x as a root.\n",
        "\n",
        "\n",
        "\n",
        "\n",
        "\n"
      ],
      "metadata": {
        "id": "2oxRF0hiGxy3"
      }
    },
    {
      "cell_type": "markdown",
      "source": [
        "**19.3 - Bisection Method**"
      ],
      "metadata": {
        "id": "jGkuCliSQTLs"
      }
    },
    {
      "cell_type": "markdown",
      "source": [
        "\n",
        "\n",
        "*   By the intermediate value theorem, for any continuous function f(x) with points a, b where f(a) and f(b) have a different sign, there must exist some c with a < c < b with f(c) = 0.\n",
        "*   Using this theorem, the bisection method takes the average of a, b and uses this as a new closer bound for finding \"c\". It then repeats this process iteratively to zone in on a single value for c, thus finding a root.\n",
        "\n"
      ],
      "metadata": {
        "id": "v6P-RRlkQcaB"
      }
    },
    {
      "cell_type": "code",
      "source": [
        "#Uses the bisection method to find a root for f(x) = x^2 - 2.\n",
        "\n",
        "import numpy as np\n",
        "\n",
        "def my_bisection(f, a, b, tol):\n",
        "\n",
        "    # check if a and b bound a root\n",
        "    if np.sign(f(a)) == np.sign(f(b)):\n",
        "        raise Exception(\n",
        "         \"The scalars a and b do not bound a root\")\n",
        "\n",
        "    # get midpoint\n",
        "    m = (a + b)/2\n",
        "\n",
        "    if np.abs(f(m)) < tol:\n",
        "        # stopping condition, report m as root\n",
        "        return m\n",
        "    elif np.sign(f(a)) == np.sign(f(m)):\n",
        "        # case where m is an improvement on a.\n",
        "        # Make recursive call with a = m\n",
        "        return my_bisection(f, m, b, tol)\n",
        "    elif np.sign(f(b)) == np.sign(f(m)):\n",
        "        # case where m is an improvement on b.\n",
        "        # Make recursive call with b = m\n",
        "        return my_bisection(f, a, m, tol)\n",
        "\n",
        "f = lambda x: x**2 - 2\n",
        "\n",
        "r1 = my_bisection(f, 0, 2, 0.1)\n",
        "print(\"Root 1 (Higher Tolerance) = \", r1)\n",
        "r01 = my_bisection(f, 0, 2, 0.01)\n",
        "print(\"Root 2 (Lower Tolerance) = \", r01)\n",
        "\n",
        "print(\"f(Root 1) =\", f(r1))\n",
        "print(\"f(Root 2) =\", f(r01))"
      ],
      "metadata": {
        "colab": {
          "base_uri": "https://localhost:8080/"
        },
        "id": "utR9METRRm2V",
        "outputId": "74da4298-f151-469c-fb96-75249644e53a"
      },
      "execution_count": null,
      "outputs": [
        {
          "output_type": "stream",
          "name": "stdout",
          "text": [
            "Root 1 (Higher Tolerance) =  1.4375\n",
            "Root 2 (Lower Tolerance) =  1.4140625\n",
            "f(Root 1) = 0.06640625\n",
            "f(Root 2) = -0.00042724609375\n"
          ]
        }
      ]
    },
    {
      "cell_type": "markdown",
      "source": [
        "**19.4 - Newton-Raphson Method**"
      ],
      "metadata": {
        "id": "VYehs3OeSmRU"
      }
    },
    {
      "cell_type": "markdown",
      "source": [
        "\n",
        "*   The Newton-Raphson method uses a linear approximation of a function around a guess to find an improved guess for the root. This improved guess is found by determining where the linear approximation intersects the x-axis.\n",
        "*   The method reiterates, using each improved guess to compute the next one, until the error is less than a specified tolerance.\n",
        "*   While this method can converge to a root much faster than the bisection method, it requires a good initial guess. It also may fail if the derivative is close to zero or if the function's behavior causes it to converge to a different root.\n",
        "\n",
        "\n",
        "\n"
      ],
      "metadata": {
        "id": "-25B8F5VSsY-"
      }
    },
    {
      "cell_type": "code",
      "source": [
        "#Use Newton-Raphson to compute an approximation for the square root of 3:\n",
        "\n",
        "import numpy as np\n",
        "\n",
        "f = lambda x: x**2 - 3\n",
        "f_prime = lambda x: 2*x\n",
        "newton_raphson = 1.7 - (f(1.7))/(f_prime(1.7))\n",
        "\n",
        "print(\"newton_raphson =\", newton_raphson)\n",
        "print(\"sqrt(3) =\", np.sqrt(3))"
      ],
      "metadata": {
        "colab": {
          "base_uri": "https://localhost:8080/"
        },
        "id": "q1dQ2Bit7iUT",
        "outputId": "8653ba87-240c-4dcf-d49e-526cf0273361"
      },
      "execution_count": null,
      "outputs": [
        {
          "output_type": "stream",
          "name": "stdout",
          "text": [
            "newton_raphson = 1.7323529411764707\n",
            "sqrt(3) = 1.7320508075688772\n"
          ]
        }
      ]
    },
    {
      "cell_type": "markdown",
      "source": [
        "We can use this method iteratively to find a root within set degree of tolerance:"
      ],
      "metadata": {
        "id": "7mIha2QK72tg"
      }
    },
    {
      "cell_type": "code",
      "source": [
        "#With this new method we can find our root of sqrt(3) with high precision.\n",
        "def my_newton(f, df, x0, tol):\n",
        "    if abs(f(x0)) < tol:\n",
        "        return x0\n",
        "    else:\n",
        "        return my_newton(f, df, x0 - f(x0)/df(x0), tol)\n",
        "\n",
        "estimate = my_newton(f, f_prime, 1.5, 1e-6)\n",
        "print(\"estimate =\", estimate)\n",
        "print(\"sqrt(3) =\", np.sqrt(3))"
      ],
      "metadata": {
        "colab": {
          "base_uri": "https://localhost:8080/"
        },
        "id": "6lpChsvF768i",
        "outputId": "bb090044-023b-45db-f34a-2da74b6cd96f"
      },
      "execution_count": null,
      "outputs": [
        {
          "output_type": "stream",
          "name": "stdout",
          "text": [
            "estimate = 1.7320508100147276\n",
            "sqrt(3) = 1.7320508075688772\n"
          ]
        }
      ]
    },
    {
      "cell_type": "markdown",
      "source": [
        "**19.5 - Root Finding in Python**\n",
        "\n",
        "*   Python has its own root finding function, which only needs our function and initial guess, but has many other possible inputs.\n"
      ],
      "metadata": {
        "id": "I-CUXy858O8n"
      }
    },
    {
      "cell_type": "code",
      "source": [
        "#Python's root finding function:\n",
        "from scipy.optimize import fsolve\n",
        "\n",
        "f = lambda x: x**4-3*x**3+2*x**2\n",
        "\n",
        "fsolve(f, [.5, 1.5, 2.5])"
      ],
      "metadata": {
        "colab": {
          "base_uri": "https://localhost:8080/"
        },
        "id": "-jfdTns58eQF",
        "outputId": "4c947050-d1d4-4bd2-d308-5977cc7363d0"
      },
      "execution_count": null,
      "outputs": [
        {
          "output_type": "execute_result",
          "data": {
            "text/plain": [
              "array([6.43884864e-26, 1.00000000e+00, 2.00000000e+00])"
            ]
          },
          "metadata": {},
          "execution_count": 10
        }
      ]
    },
    {
      "cell_type": "markdown",
      "source": [
        "The above function has roots at 0, 1, and 2 which we can see the function finds with a high degree of precision, though it doesn't give the exact correct results."
      ],
      "metadata": {
        "id": "Cq8qY_7G8_-7"
      }
    }
  ]
}