{
  "nbformat": 4,
  "nbformat_minor": 0,
  "metadata": {
    "colab": {
      "provenance": [],
      "authorship_tag": "ABX9TyOCI+rNeJqUb9L9wjHS6yJx",
      "include_colab_link": true
    },
    "kernelspec": {
      "name": "python3",
      "display_name": "Python 3"
    },
    "language_info": {
      "name": "python"
    }
  },
  "cells": [
    {
      "cell_type": "markdown",
      "metadata": {
        "id": "view-in-github",
        "colab_type": "text"
      },
      "source": [
        "<a href=\"https://colab.research.google.com/github/LukeZingg/MAT421/blob/main/Module_A.ipynb\" target=\"_parent\"><img src=\"https://colab.research.google.com/assets/colab-badge.svg\" alt=\"Open In Colab\"/></a>"
      ]
    },
    {
      "cell_type": "markdown",
      "source": [
        "**9.1 - Base-N and Binary Numbers**"
      ],
      "metadata": {
        "id": "MLQIPgtUHFfT"
      }
    },
    {
      "cell_type": "markdown",
      "source": [
        "\n",
        "\n",
        "  \n",
        "\n",
        "*   Though we are accustomed to using base 10 in our arithemtic, there is nothing inherently special about this system.\n",
        "*   We can do math using any \"base\" that we desire, though computers often use base 2 numbers called \"binary\"."
      ],
      "metadata": {
        "id": "7tMJvrH-HWko"
      }
    },
    {
      "cell_type": "code",
      "source": [
        "# Convert 13 to binary (base 2)\n",
        "\n",
        "13 == 8 + 4 + 1\n",
        "8 + 4 + 1== 2**3 + 2**2 + 2**0\n",
        "# Noting the degree of each power of two,\n",
        "#we can say with this decomposition 13 = 1101 (base 2)"
      ],
      "metadata": {
        "colab": {
          "base_uri": "https://localhost:8080/"
        },
        "id": "kRJtjvUBIDCp",
        "outputId": "f0e585d4-b80e-4a8f-8e7b-bbcb76552940"
      },
      "execution_count": null,
      "outputs": [
        {
          "output_type": "execute_result",
          "data": {
            "text/plain": [
              "True"
            ]
          },
          "metadata": {},
          "execution_count": 1
        }
      ]
    },
    {
      "cell_type": "markdown",
      "source": [
        "\n",
        "\n",
        "*   We can do addition and multiplication in the same manner we are accustomed to base 10 for any base, including binary.\n",
        "\n"
      ],
      "metadata": {
        "id": "hvbwRY9SI42z"
      }
    },
    {
      "cell_type": "code",
      "source": [
        "# Find 7 + 8 in binary:\n",
        "\n",
        "7 == 2**2 + 2**1 + 2**0\n",
        "# Thus 7 = 111 (base 2)\n",
        "\n",
        "8 == 2**3\n",
        "# So 8 = 1000 (base 2)\n",
        "# Therefore, to find 7 + 8 in binary, we simply must compute:\n",
        "\n",
        "111 + 1000 == 1111\n",
        "\n",
        "# Hence, 7 + 8 = 15 can be written as 1111 (base 2). This can be checked\n",
        "# since:\n",
        "\n",
        "15 == 2**3 + 2**2 + 2**1 + 2**0"
      ],
      "metadata": {
        "colab": {
          "base_uri": "https://localhost:8080/"
        },
        "id": "mzIo5aAFJGn1",
        "outputId": "9f34502c-42d0-4d47-f5a7-22f8ce4099a6"
      },
      "execution_count": null,
      "outputs": [
        {
          "output_type": "execute_result",
          "data": {
            "text/plain": [
              "True"
            ]
          },
          "metadata": {},
          "execution_count": 3
        }
      ]
    },
    {
      "cell_type": "code",
      "source": [
        "# Find 7 * 8 in binary:\n",
        "\n",
        "# Knowing 7 = 111 (base 2) and 8 = 1000 (base 2), we can say 7 * 8 or 56\n",
        "# is equal to 1000*111 (base 2).\n",
        "\n",
        "1000*111 == 111000\n",
        "\n",
        "#Therefore, 56 = 111000 (base 2). This can be checked since:\n",
        "56 == 2**5 + 2**4 + 2**3"
      ],
      "metadata": {
        "colab": {
          "base_uri": "https://localhost:8080/"
        },
        "id": "FjOauYXULI5F",
        "outputId": "8f54ee09-2902-4d20-bf17-da3d36fa131c"
      },
      "execution_count": null,
      "outputs": [
        {
          "output_type": "execute_result",
          "data": {
            "text/plain": [
              "True"
            ]
          },
          "metadata": {},
          "execution_count": 5
        }
      ]
    },
    {
      "cell_type": "markdown",
      "source": [
        "**9.2 - Floating Point Numbers**\n",
        "\n",
        "\n",
        "\n",
        "*   Computers have a fixed number of bits, and using binary representation alone provides an insufficient range and precision for many calculations.\n",
        "*   Floating-point numbers are used to achieve a wider range of values with the same number of bits. Instead of each bit being a power of 2, bits are allocated to a sign indicator (s), exponent (e), and fraction (f).\n",
        "*   Python floats are commonly mapped to the IEEE 754 double precision standard, which uses a total of 64 bits: 1 for the sign, 11 for the exponent, and 52 for the fraction.\n",
        "*   Using this system, numbers are written as:\n",
        "    n = [((-1)^s) * (2^(e - 1023)) * (1 + f)]\n",
        "\n",
        "\n",
        "\n"
      ],
      "metadata": {
        "id": "pTThGoYgMA12"
      }
    },
    {
      "cell_type": "code",
      "source": [
        "#Write 15 in IEEE 754:\n",
        "# 15 = 0 10000000010 1110000000000000000000000000000000000000000000000000\n",
        "# This can be checked as:\n",
        "15 == ((-1)**0) * (2**((2**10 + 2**1) - 1023)) * (1+(2**-3)+(2**-2)+(2**-1))\n"
      ],
      "metadata": {
        "colab": {
          "base_uri": "https://localhost:8080/"
        },
        "id": "Yg_gQUhPfp7w",
        "outputId": "42083daf-21ca-4d10-e642-b623aa922c7b"
      },
      "execution_count": null,
      "outputs": [
        {
          "output_type": "execute_result",
          "data": {
            "text/plain": [
              "True"
            ]
          },
          "metadata": {},
          "execution_count": 4
        }
      ]
    },
    {
      "cell_type": "markdown",
      "source": [
        "We can get the float information by calling the following pacakage:"
      ],
      "metadata": {
        "id": "sGqM8Aqjhnav"
      }
    },
    {
      "cell_type": "code",
      "source": [
        "import sys\n",
        "sys.float_info"
      ],
      "metadata": {
        "colab": {
          "base_uri": "https://localhost:8080/"
        },
        "id": "9OfzPwhuhXPz",
        "outputId": "63828409-c117-4f5d-a175-a1210f320c7f"
      },
      "execution_count": null,
      "outputs": [
        {
          "output_type": "execute_result",
          "data": {
            "text/plain": [
              "sys.float_info(max=1.7976931348623157e+308, max_exp=1024, max_10_exp=308, min=2.2250738585072014e-308, min_exp=-1021, min_10_exp=-307, dig=15, mant_dig=53, epsilon=2.220446049250313e-16, radix=2, rounds=1)"
            ]
          },
          "metadata": {},
          "execution_count": 5
        }
      ]
    },
    {
      "cell_type": "markdown",
      "source": [
        "\n",
        "\n",
        "*   The \"gap\" refers to the distance between one representable floating-point number and the next.\n",
        "*   The size of this gap is not constant. It increases as the magnitude of the number being represented grows\n",
        "*   The spacing function in NumPy can be used to calculate the gap at a specific number.\n",
        "\n",
        "\n",
        "\n"
      ],
      "metadata": {
        "id": "vmP6HPH6hrbA"
      }
    },
    {
      "cell_type": "code",
      "source": [
        "import numpy as np\n",
        "np.spacing(1e9)\n",
        "\n",
        "#If we add less than the \"gap\" to a number, it will return the same number:\n",
        "1e9 == (1e9 + np.spacing(1e9)/5)"
      ],
      "metadata": {
        "colab": {
          "base_uri": "https://localhost:8080/"
        },
        "id": "D0n1OErDh8yo",
        "outputId": "07fbd9c2-40e9-47c0-ae0e-14b2cbedbb19"
      },
      "execution_count": null,
      "outputs": [
        {
          "output_type": "execute_result",
          "data": {
            "text/plain": [
              "True"
            ]
          },
          "metadata": {},
          "execution_count": 6
        }
      ]
    },
    {
      "cell_type": "markdown",
      "source": [
        "\n",
        "*   When the exponent is 2047 and the fraction (f) is not zero, the result is \"Not a Number\" (NaN), meaning the number is undefined.\n",
        "*   If the exponent is 2047 and the fraction (f) is zero with a sign (s) of 1, the result is negative infinity\n",
        "*   If the exponent is 2047 and the fraction (f) is zero with a sign (s) of 0, the result is positive infinity.\n",
        "*   Numbers below the limit of IEEE 754 will return a value of 0.\n",
        "\n",
        "\n",
        "We can view numbers above and below these limits in IEEE 754:"
      ],
      "metadata": {
        "id": "7MRriQDbitjM"
      }
    },
    {
      "cell_type": "code",
      "source": [
        "#Overflowing (Generating a number greater than IEEE 754 supports)\n",
        "\n",
        "overflow = sys.float_info.max*2\n",
        "print(overflow)"
      ],
      "metadata": {
        "colab": {
          "base_uri": "https://localhost:8080/"
        },
        "id": "UzODlh7-jWXQ",
        "outputId": "96d24f0d-1679-486c-c8ff-02cd7e496a5f"
      },
      "execution_count": null,
      "outputs": [
        {
          "output_type": "stream",
          "name": "stdout",
          "text": [
            "inf\n"
          ]
        }
      ]
    },
    {
      "cell_type": "code",
      "source": [
        "#Underflowing (Generating a number smaller than IEEE 754 supports)\n",
        "\n",
        "underflow = 5**-2000\n",
        "print(underflow)"
      ],
      "metadata": {
        "colab": {
          "base_uri": "https://localhost:8080/"
        },
        "id": "K52qDn2xk4RM",
        "outputId": "32a56bdb-3ea6-4eee-833c-f983766b5fe2"
      },
      "execution_count": null,
      "outputs": [
        {
          "output_type": "stream",
          "name": "stdout",
          "text": [
            "0.0\n"
          ]
        }
      ]
    },
    {
      "cell_type": "markdown",
      "source": [
        "**9.3 - Round-off Errors**"
      ],
      "metadata": {
        "id": "xs7-XcTwlPrZ"
      }
    },
    {
      "cell_type": "markdown",
      "source": [
        "\n",
        "\n",
        "*  The difference between an approximation of a number used in computation and its true value is called round-off error.\n",
        "*   There will be round-off error when representing any irrational number, or rational number with a repeated decimal expansion.\n",
        "*   Since floating points often can't represent an exact number, we will often recieve round-off error for basic arithmetic:"
      ],
      "metadata": {
        "id": "3x3YxPkylm7q"
      }
    },
    {
      "cell_type": "code",
      "source": [
        "#Round-off error makes this mathematically true statement return false:\n",
        "4.9 - 4.845 == 0.055"
      ],
      "metadata": {
        "colab": {
          "base_uri": "https://localhost:8080/"
        },
        "id": "I_nnz7ofmd2d",
        "outputId": "fcb5e770-4e12-4d2f-a749-ec80444bedff"
      },
      "execution_count": null,
      "outputs": [
        {
          "output_type": "execute_result",
          "data": {
            "text/plain": [
              "False"
            ]
          },
          "metadata": {},
          "execution_count": 13
        }
      ]
    },
    {
      "cell_type": "code",
      "source": [
        "4.9 - 4.845"
      ],
      "metadata": {
        "colab": {
          "base_uri": "https://localhost:8080/"
        },
        "id": "NgyqLTWmmr1h",
        "outputId": "ca3a062d-59b5-43f3-9846-e9e5b406b274"
      },
      "execution_count": null,
      "outputs": [
        {
          "output_type": "execute_result",
          "data": {
            "text/plain": [
              "0.055000000000000604"
            ]
          },
          "metadata": {},
          "execution_count": 14
        }
      ]
    },
    {
      "cell_type": "markdown",
      "source": [
        "We can use the round function to ammend this round-off error:\n"
      ],
      "metadata": {
        "id": "YbRuUvqbmx8E"
      }
    },
    {
      "cell_type": "code",
      "source": [
        "round(4.9 - 4.845, 3) == round(.055, 3)"
      ],
      "metadata": {
        "colab": {
          "base_uri": "https://localhost:8080/"
        },
        "id": "zv8temA7m2wE",
        "outputId": "c5d294d9-3127-4ba9-d51d-866fb9c6fc97"
      },
      "execution_count": null,
      "outputs": [
        {
          "output_type": "execute_result",
          "data": {
            "text/plain": [
              "True"
            ]
          },
          "metadata": {},
          "execution_count": 18
        }
      ]
    },
    {
      "cell_type": "markdown",
      "source": [
        "Round-off errors can accumulate as the number of arithmetic operations increases:"
      ],
      "metadata": {
        "id": "Pc6pMabanL7u"
      }
    },
    {
      "cell_type": "code",
      "source": [
        "#No round off error:\n",
        "1 + 1/3 - 1/3"
      ],
      "metadata": {
        "colab": {
          "base_uri": "https://localhost:8080/"
        },
        "id": "_9oVqVGPnRsa",
        "outputId": "9a13048f-f83f-4fb0-8693-1b24830fe0dd"
      },
      "execution_count": null,
      "outputs": [
        {
          "output_type": "execute_result",
          "data": {
            "text/plain": [
              "1.0"
            ]
          },
          "metadata": {},
          "execution_count": 19
        }
      ]
    },
    {
      "cell_type": "code",
      "source": [
        "#Create function that repeatedly adds and subtracts 1/3 from 1 \"n-many\" times:\n",
        "def add_and_subtract(iterations):\n",
        "    result = 1\n",
        "\n",
        "    for i in range(iterations):\n",
        "        result += 1/3\n",
        "\n",
        "    for i in range(iterations):\n",
        "        result -= 1/3\n",
        "    return result"
      ],
      "metadata": {
        "id": "EGSpMWo4nXOP"
      },
      "execution_count": null,
      "outputs": []
    },
    {
      "cell_type": "code",
      "source": [
        "#After 100 iterations we now generate some round-off error:\n",
        "add_and_subtract(100)"
      ],
      "metadata": {
        "colab": {
          "base_uri": "https://localhost:8080/"
        },
        "id": "eNy9RKfBngFI",
        "outputId": "3f52c044-3e1c-4f35-a8e0-76fb6bbbf005"
      },
      "execution_count": null,
      "outputs": [
        {
          "output_type": "execute_result",
          "data": {
            "text/plain": [
              "1.0000000000000002"
            ]
          },
          "metadata": {},
          "execution_count": 21
        }
      ]
    },
    {
      "cell_type": "code",
      "source": [
        "#This error increases as the number of iterations grows:\n",
        "add_and_subtract(1000)"
      ],
      "metadata": {
        "colab": {
          "base_uri": "https://localhost:8080/"
        },
        "id": "SylbDRbpnooa",
        "outputId": "439a2aa6-fe3f-4872-c913-62c8fe5c5379"
      },
      "execution_count": null,
      "outputs": [
        {
          "output_type": "execute_result",
          "data": {
            "text/plain": [
              "1.0000000000000064"
            ]
          },
          "metadata": {},
          "execution_count": 22
        }
      ]
    },
    {
      "cell_type": "code",
      "source": [
        "add_and_subtract(100000)"
      ],
      "metadata": {
        "colab": {
          "base_uri": "https://localhost:8080/"
        },
        "id": "EbE6oa2gnunL",
        "outputId": "bc5c4263-050c-4a8b-f321-702a0d234676"
      },
      "execution_count": null,
      "outputs": [
        {
          "output_type": "execute_result",
          "data": {
            "text/plain": [
              "1.0000000000019214"
            ]
          },
          "metadata": {},
          "execution_count": 23
        }
      ]
    }
  ]
}